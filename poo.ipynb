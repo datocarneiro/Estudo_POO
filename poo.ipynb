{
 "cells": [
  {
   "cell_type": "markdown",
   "metadata": {},
   "source": [
    "# **POO - Programação Orientada a Objeto**\n"
   ]
  },
  {
   "cell_type": "markdown",
   "metadata": {},
   "source": [
    "# O que é Classe?\n",
    "\n",
    "    # class - Classes são moldes para criar novos objetos \n",
    "\n",
    "    As classes geram novos objetos (instâncias) que podem ter seus próprios atributos e métodos.\n",
    "    \n",
    "    Os objetos gerados pela classe podem usar seus dados internos para realizar várias ações.\n",
    "    \n",
    "    Por convenção, usamos PascalCase para nomes de classes (ou seja toda separação de palevra usamos a primeira letra MAIÚSCULA) \n",
    "    EXEMPLO:    \n",
    "        class MinhaClasse():"
   ]
  },
  {
   "cell_type": "markdown",
   "metadata": {},
   "source": [
    "# Resumo\n",
    "    objeto = instancia\n",
    "    Intancia: Tem atributos e métodos\n",
    "    Atributos: São dados dentro da classe\n",
    "    Método: São funções dentro da classe (ações)\n",
    "    Self: Referencia ao objeto que esta sendo criado (é como se fosse a variavel para o objeto/ instancia)\n",
    "    __init__ : inicializa os atributos da classe\n",
    "\n",
    "Sintaxe:\n",
    "\n",
    "    class NomeDaClasse:\n",
    "        Atributos (dados da classe)\n",
    "        método (ações da classe)"
   ]
  },
  {
   "cell_type": "markdown",
   "metadata": {},
   "source": [
    "# Para comecando a entender como funciona \n",
    "    Mas não é assim que escrevemos"
   ]
  },
  {
   "cell_type": "code",
   "execution_count": null,
   "metadata": {},
   "outputs": [],
   "source": [
    "class Pessoa:\n",
    "    ...\n",
    "    \n",
    "objeto1 = Pessoa()      # aqui estou criando uma nova instancia (objeto1) da class Pessoa\n",
    "objeto1.nome = 'Dato'   # aqui esta sendo criado o atributo nome com o argumento 'Dato'\n",
    "objeto1.idade = 18      # aqui esta sendo criado o atributo idade com o argumento '18'\n",
    "\n",
    "print(objeto1.nome, objeto1.idade)\n",
    "# resultado:    Dato 18"
   ]
  },
  {
   "attachments": {
    "image-2.png": {
     "image/png": "[encoded data removed]"
    }
   },
   "cell_type": "markdown",
   "metadata": {},
   "source": [
    "# A forma correta é\n",
    "![image-2.png](attachment:image-2.png)"
   ]
  },
  {
   "cell_type": "code",
   "execution_count": null,
   "metadata": {},
   "outputs": [],
   "source": [
    "class Pessoa:\n",
    "    def __init__(self, nome, idade):\n",
    "        self.nome = nome\n",
    "        self.idade = idade\n",
    "\n",
    "objeto2 = Pessoa('Joshua', 10)\n",
    "print(objeto2.nome, objeto2.idade)\n",
    "# resultado:    Joshua 10"
   ]
  },
  {
   "cell_type": "markdown",
   "metadata": {},
   "source": [
    "# **__ init __**\n",
    "\n",
    "        o mértodo __init__ : inicializa os atributos da classe \n",
    "\n",
    "        exemplo:\n",
    "                def __init__() \n",
    "\n"
   ]
  },
  {
   "cell_type": "markdown",
   "metadata": {},
   "source": [
    "# **self**\n",
    "    Self: Referencia ao objeto que esta sendo criado (é como se fosse a variavel para o objeto/ instancia)\n",
    "no python para todos os métodos dentro da classe **o primeiro paramentro é reservado ao self**\n",
    "exemplo:\n",
    "\n",
    "(é como se fosse a paramentro/variavel para o objeto)\n",
    "\n",
    "    class Exemplo:\n",
    "        def __init__(self, paramentro):\n",
    "            ..."
   ]
  },
  {
   "cell_type": "code",
   "execution_count": null,
   "metadata": {},
   "outputs": [],
   "source": [
    "class Carro:\n",
    "    def __init__(self, marca, modelo, motor, cor, portas, combustivel):\n",
    "        self.marca = marca\n",
    "        self.modelo = modelo\n",
    "        self.motor = motor\n",
    "        self.cor = cor\n",
    "        self.portas = portas\n",
    "        self.combustivel = combustivel\n",
    "\n",
    "veiculo = Carro('vowksvagem', 'Fusca', 1.5, 'Azul', 5, 'Gasolina')\n",
    "\n",
    "print(veiculo.marca)\n",
    "print(veiculo.modelo)\n",
    "print(veiculo.motor)\n",
    "print(veiculo.cor)\n",
    "print(veiculo.portas)\n",
    "print(veiculo.combustivel)\n",
    "#resultado:\n",
    "                # vowksvagem\n",
    "                # Fusca\n",
    "                # 1.5\n",
    "                # Azul\n",
    "                # 5\n",
    "                # Gasolina\n",
    "\n"
   ]
  },
  {
   "cell_type": "markdown",
   "metadata": {},
   "source": [
    "**melhorando o print com a função getattr()**"
   ]
  },
  {
   "cell_type": "code",
   "execution_count": null,
   "metadata": {},
   "outputs": [],
   "source": [
    "class Carro:\n",
    "    def __init__(self, marca, modelo, motor, cor, portas, combustivel):\n",
    "        self.marca = marca\n",
    "        self.modelo = modelo\n",
    "        self.motor = motor\n",
    "        self.cor = cor\n",
    "        self.portas = portas\n",
    "        self.combustivel = combustivel\n",
    "\n",
    "veiculo = Carro('vowksvagem', 'Fusca', 1.5, 'Azul', 5, 'Gasolina')\n",
    "\n",
    "parametros = ['marca', 'modelo', 'motor', 'cor', 'portas', 'combustivel']\n",
    "for parametro in parametros:\n",
    "    print(f\"{parametro}: {getattr(veiculo, parametro)}\")\n",
    "# resultado: \n",
    "                # marca: vowksvagem\n",
    "                # modelo: Fusca\n",
    "                # motor: 1.5\n",
    "                # cor: Azul\n",
    "                # portas: 5\n",
    "                # combustivel: Gasolina\n"
   ]
  },
  {
   "cell_type": "markdown",
   "metadata": {},
   "source": [
    "# **Método**"
   ]
  },
  {
   "cell_type": "code",
   "execution_count": null,
   "metadata": {},
   "outputs": [],
   "source": [
    "class Carro:\n",
    "    def __init__(self, modelo):\n",
    "        self.modelo = modelo\n",
    "\n",
    "    def acelerar(self):\n",
    "        return f'O {self.modelo}, esta acelerando'\n",
    "\n",
    "veiculo = Carro('Fusca')\n",
    "print(veiculo.modelo)\n",
    "print(veiculo.acelerar())\n",
    "\n",
    "veiculo = Carro('prisma')\n",
    "print(veiculo.modelo)\n",
    "print(veiculo.acelerar())\n",
    "\n",
    "#resultado:\n",
    "                # Fusca\n",
    "                # O Fusca, esta acelerando\n",
    "                # prisma\n",
    "                # O prisma, esta acelerando\n"
   ]
  }
 ],
 "metadata": {
  "kernelspec": {
   "display_name": "Python 3",
   "language": "python",
   "name": "python3"
  },
  "language_info": {
   "codemirror_mode": {
    "name": "ipython",
    "version": 3
   },
   "file_extension": ".py",
   "mimetype": "text/x-python",
   "name": "python",
   "nbconvert_exporter": "python",
   "pygments_lexer": "ipython3",
   "version": "3.12.1"
  }
 },
 "nbformat": 4,
 "nbformat_minor": 2
}
